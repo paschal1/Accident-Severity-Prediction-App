{
 "cells": [
  {
   "cell_type": "markdown",
   "metadata": {},
   "source": [
    "Load the Original Dataset"
   ]
  },
  {
   "cell_type": "code",
   "execution_count": 2,
   "metadata": {},
   "outputs": [],
   "source": [
    "# Import necessary libraries\n",
    "import pandas as pd\n",
    "import numpy as np\n",
    "import matplotlib.pyplot as plt\n",
    "import seaborn as sns\n",
    "from sklearn.model_selection import train_test_split\n",
    "from sklearn.linear_model import LinearRegression\n",
    "from sklearn.tree import DecisionTreeRegressor\n",
    "from sklearn.neighbors import KNeighborsRegressor\n",
    "from sklearn.ensemble import RandomForestRegressor\n",
    "from sklearn.metrics import mean_squared_error, r2_score"
   ]
  },
  {
   "cell_type": "code",
   "execution_count": 3,
   "metadata": {},
   "outputs": [
    {
     "name": "stdout",
     "output_type": "stream",
     "text": [
      "Dataset Loaded Successfully.\n"
     ]
    }
   ],
   "source": [
    "data = pd.read_csv('UK_Accident.csv')  # Replace with your dataset filename\n",
    "print(\"Dataset Loaded Successfully.\")"
   ]
  },
  {
   "cell_type": "code",
   "execution_count": 4,
   "metadata": {},
   "outputs": [
    {
     "data": {
      "text/html": [
       "<div>\n",
       "<style scoped>\n",
       "    .dataframe tbody tr th:only-of-type {\n",
       "        vertical-align: middle;\n",
       "    }\n",
       "\n",
       "    .dataframe tbody tr th {\n",
       "        vertical-align: top;\n",
       "    }\n",
       "\n",
       "    .dataframe thead th {\n",
       "        text-align: right;\n",
       "    }\n",
       "</style>\n",
       "<table border=\"1\" class=\"dataframe\">\n",
       "  <thead>\n",
       "    <tr style=\"text-align: right;\">\n",
       "      <th></th>\n",
       "      <th>Unnamed: 0</th>\n",
       "      <th>Accident_Index</th>\n",
       "      <th>Location_Easting_OSGR</th>\n",
       "      <th>Location_Northing_OSGR</th>\n",
       "      <th>Longitude</th>\n",
       "      <th>Latitude</th>\n",
       "      <th>Police_Force</th>\n",
       "      <th>Accident_Severity</th>\n",
       "      <th>Number_of_Vehicles</th>\n",
       "      <th>Number_of_Casualties</th>\n",
       "      <th>...</th>\n",
       "      <th>Pedestrian_Crossing-Physical_Facilities</th>\n",
       "      <th>Light_Conditions</th>\n",
       "      <th>Weather_Conditions</th>\n",
       "      <th>Road_Surface_Conditions</th>\n",
       "      <th>Special_Conditions_at_Site</th>\n",
       "      <th>Carriageway_Hazards</th>\n",
       "      <th>Urban_or_Rural_Area</th>\n",
       "      <th>Did_Police_Officer_Attend_Scene_of_Accident</th>\n",
       "      <th>LSOA_of_Accident_Location</th>\n",
       "      <th>Year</th>\n",
       "    </tr>\n",
       "  </thead>\n",
       "  <tbody>\n",
       "    <tr>\n",
       "      <th>0</th>\n",
       "      <td>0</td>\n",
       "      <td>200501BS00001</td>\n",
       "      <td>525680.0</td>\n",
       "      <td>178240</td>\n",
       "      <td>-0.191170</td>\n",
       "      <td>51.489096</td>\n",
       "      <td>1</td>\n",
       "      <td>2</td>\n",
       "      <td>1</td>\n",
       "      <td>1</td>\n",
       "      <td>...</td>\n",
       "      <td>Zebra crossing</td>\n",
       "      <td>Daylight: Street light present</td>\n",
       "      <td>Raining without high winds</td>\n",
       "      <td>Wet/Damp</td>\n",
       "      <td>None</td>\n",
       "      <td>None</td>\n",
       "      <td>1</td>\n",
       "      <td>Yes</td>\n",
       "      <td>E01002849</td>\n",
       "      <td>2005</td>\n",
       "    </tr>\n",
       "    <tr>\n",
       "      <th>1</th>\n",
       "      <td>1</td>\n",
       "      <td>200501BS00002</td>\n",
       "      <td>524170.0</td>\n",
       "      <td>181650</td>\n",
       "      <td>-0.211708</td>\n",
       "      <td>51.520075</td>\n",
       "      <td>1</td>\n",
       "      <td>3</td>\n",
       "      <td>1</td>\n",
       "      <td>1</td>\n",
       "      <td>...</td>\n",
       "      <td>Pedestrian phase at traffic signal junction</td>\n",
       "      <td>Darkness: Street lights present and lit</td>\n",
       "      <td>Fine without high winds</td>\n",
       "      <td>Dry</td>\n",
       "      <td>None</td>\n",
       "      <td>None</td>\n",
       "      <td>1</td>\n",
       "      <td>Yes</td>\n",
       "      <td>E01002909</td>\n",
       "      <td>2005</td>\n",
       "    </tr>\n",
       "    <tr>\n",
       "      <th>2</th>\n",
       "      <td>2</td>\n",
       "      <td>200501BS00003</td>\n",
       "      <td>524520.0</td>\n",
       "      <td>182240</td>\n",
       "      <td>-0.206458</td>\n",
       "      <td>51.525301</td>\n",
       "      <td>1</td>\n",
       "      <td>3</td>\n",
       "      <td>2</td>\n",
       "      <td>1</td>\n",
       "      <td>...</td>\n",
       "      <td>No physical crossing within 50 meters</td>\n",
       "      <td>Darkness: Street lights present and lit</td>\n",
       "      <td>Fine without high winds</td>\n",
       "      <td>Dry</td>\n",
       "      <td>None</td>\n",
       "      <td>None</td>\n",
       "      <td>1</td>\n",
       "      <td>Yes</td>\n",
       "      <td>E01002857</td>\n",
       "      <td>2005</td>\n",
       "    </tr>\n",
       "    <tr>\n",
       "      <th>3</th>\n",
       "      <td>3</td>\n",
       "      <td>200501BS00004</td>\n",
       "      <td>526900.0</td>\n",
       "      <td>177530</td>\n",
       "      <td>-0.173862</td>\n",
       "      <td>51.482442</td>\n",
       "      <td>1</td>\n",
       "      <td>3</td>\n",
       "      <td>1</td>\n",
       "      <td>1</td>\n",
       "      <td>...</td>\n",
       "      <td>No physical crossing within 50 meters</td>\n",
       "      <td>Daylight: Street light present</td>\n",
       "      <td>Fine without high winds</td>\n",
       "      <td>Dry</td>\n",
       "      <td>None</td>\n",
       "      <td>None</td>\n",
       "      <td>1</td>\n",
       "      <td>Yes</td>\n",
       "      <td>E01002840</td>\n",
       "      <td>2005</td>\n",
       "    </tr>\n",
       "    <tr>\n",
       "      <th>4</th>\n",
       "      <td>4</td>\n",
       "      <td>200501BS00005</td>\n",
       "      <td>528060.0</td>\n",
       "      <td>179040</td>\n",
       "      <td>-0.156618</td>\n",
       "      <td>51.495752</td>\n",
       "      <td>1</td>\n",
       "      <td>3</td>\n",
       "      <td>1</td>\n",
       "      <td>1</td>\n",
       "      <td>...</td>\n",
       "      <td>No physical crossing within 50 meters</td>\n",
       "      <td>Darkness: Street lighting unknown</td>\n",
       "      <td>Fine without high winds</td>\n",
       "      <td>Wet/Damp</td>\n",
       "      <td>None</td>\n",
       "      <td>None</td>\n",
       "      <td>1</td>\n",
       "      <td>Yes</td>\n",
       "      <td>E01002863</td>\n",
       "      <td>2005</td>\n",
       "    </tr>\n",
       "  </tbody>\n",
       "</table>\n",
       "<p>5 rows × 33 columns</p>\n",
       "</div>"
      ],
      "text/plain": [
       "   Unnamed: 0 Accident_Index  Location_Easting_OSGR  Location_Northing_OSGR  \\\n",
       "0           0  200501BS00001               525680.0                  178240   \n",
       "1           1  200501BS00002               524170.0                  181650   \n",
       "2           2  200501BS00003               524520.0                  182240   \n",
       "3           3  200501BS00004               526900.0                  177530   \n",
       "4           4  200501BS00005               528060.0                  179040   \n",
       "\n",
       "   Longitude   Latitude  Police_Force  Accident_Severity  Number_of_Vehicles  \\\n",
       "0  -0.191170  51.489096             1                  2                   1   \n",
       "1  -0.211708  51.520075             1                  3                   1   \n",
       "2  -0.206458  51.525301             1                  3                   2   \n",
       "3  -0.173862  51.482442             1                  3                   1   \n",
       "4  -0.156618  51.495752             1                  3                   1   \n",
       "\n",
       "   Number_of_Casualties  ...      Pedestrian_Crossing-Physical_Facilities  \\\n",
       "0                     1  ...                               Zebra crossing   \n",
       "1                     1  ...  Pedestrian phase at traffic signal junction   \n",
       "2                     1  ...        No physical crossing within 50 meters   \n",
       "3                     1  ...        No physical crossing within 50 meters   \n",
       "4                     1  ...        No physical crossing within 50 meters   \n",
       "\n",
       "                          Light_Conditions          Weather_Conditions  \\\n",
       "0           Daylight: Street light present  Raining without high winds   \n",
       "1  Darkness: Street lights present and lit     Fine without high winds   \n",
       "2  Darkness: Street lights present and lit     Fine without high winds   \n",
       "3           Daylight: Street light present     Fine without high winds   \n",
       "4        Darkness: Street lighting unknown     Fine without high winds   \n",
       "\n",
       "   Road_Surface_Conditions Special_Conditions_at_Site  Carriageway_Hazards  \\\n",
       "0                 Wet/Damp                       None                 None   \n",
       "1                      Dry                       None                 None   \n",
       "2                      Dry                       None                 None   \n",
       "3                      Dry                       None                 None   \n",
       "4                 Wet/Damp                       None                 None   \n",
       "\n",
       "   Urban_or_Rural_Area Did_Police_Officer_Attend_Scene_of_Accident  \\\n",
       "0                    1                                         Yes   \n",
       "1                    1                                         Yes   \n",
       "2                    1                                         Yes   \n",
       "3                    1                                         Yes   \n",
       "4                    1                                         Yes   \n",
       "\n",
       "   LSOA_of_Accident_Location  Year  \n",
       "0                  E01002849  2005  \n",
       "1                  E01002909  2005  \n",
       "2                  E01002857  2005  \n",
       "3                  E01002840  2005  \n",
       "4                  E01002863  2005  \n",
       "\n",
       "[5 rows x 33 columns]"
      ]
     },
     "execution_count": 4,
     "metadata": {},
     "output_type": "execute_result"
    }
   ],
   "source": [
    "data.head()  # Display first few rows"
   ]
  },
  {
   "cell_type": "code",
   "execution_count": 5,
   "metadata": {},
   "outputs": [
    {
     "name": "stdout",
     "output_type": "stream",
     "text": [
      "   Unnamed: 0 Accident_Index  Location_Easting_OSGR  Location_Northing_OSGR  \\\n",
      "0           0  200501BS00001               525680.0                  178240   \n",
      "1           1  200501BS00002               524170.0                  181650   \n",
      "2           2  200501BS00003               524520.0                  182240   \n",
      "3           3  200501BS00004               526900.0                  177530   \n",
      "4           4  200501BS00005               528060.0                  179040   \n",
      "\n",
      "   Longitude   Latitude  Police_Force  Accident_Severity  Number_of_Vehicles  \\\n",
      "0  -0.191170  51.489096             1                  2                   1   \n",
      "1  -0.211708  51.520075             1                  3                   1   \n",
      "2  -0.206458  51.525301             1                  3                   2   \n",
      "3  -0.173862  51.482442             1                  3                   1   \n",
      "4  -0.156618  51.495752             1                  3                   1   \n",
      "\n",
      "   Number_of_Casualties  ...      Pedestrian_Crossing-Physical_Facilities  \\\n",
      "0                     1  ...                               Zebra crossing   \n",
      "1                     1  ...  Pedestrian phase at traffic signal junction   \n",
      "2                     1  ...        No physical crossing within 50 meters   \n",
      "3                     1  ...        No physical crossing within 50 meters   \n",
      "4                     1  ...        No physical crossing within 50 meters   \n",
      "\n",
      "                          Light_Conditions          Weather_Conditions  \\\n",
      "0           Daylight: Street light present  Raining without high winds   \n",
      "1  Darkness: Street lights present and lit     Fine without high winds   \n",
      "2  Darkness: Street lights present and lit     Fine without high winds   \n",
      "3           Daylight: Street light present     Fine without high winds   \n",
      "4        Darkness: Street lighting unknown     Fine without high winds   \n",
      "\n",
      "   Road_Surface_Conditions Special_Conditions_at_Site  Carriageway_Hazards  \\\n",
      "0                 Wet/Damp                       None                 None   \n",
      "1                      Dry                       None                 None   \n",
      "2                      Dry                       None                 None   \n",
      "3                      Dry                       None                 None   \n",
      "4                 Wet/Damp                       None                 None   \n",
      "\n",
      "   Urban_or_Rural_Area Did_Police_Officer_Attend_Scene_of_Accident  \\\n",
      "0                    1                                         Yes   \n",
      "1                    1                                         Yes   \n",
      "2                    1                                         Yes   \n",
      "3                    1                                         Yes   \n",
      "4                    1                                         Yes   \n",
      "\n",
      "   LSOA_of_Accident_Location  Year  \n",
      "0                  E01002849  2005  \n",
      "1                  E01002909  2005  \n",
      "2                  E01002857  2005  \n",
      "3                  E01002840  2005  \n",
      "4                  E01002863  2005  \n",
      "\n",
      "[5 rows x 33 columns]\n"
     ]
    }
   ],
   "source": [
    "print(data.head())  # Display first few rows"
   ]
  },
  {
   "cell_type": "code",
   "execution_count": 6,
   "metadata": {},
   "outputs": [
    {
     "data": {
      "text/plain": [
       "Index(['Unnamed: 0', 'Accident_Index', 'Location_Easting_OSGR',\n",
       "       'Location_Northing_OSGR', 'Longitude', 'Latitude', 'Police_Force',\n",
       "       'Accident_Severity', 'Number_of_Vehicles', 'Number_of_Casualties',\n",
       "       'Date', 'Day_of_Week', 'Time', 'Local_Authority_(District)',\n",
       "       'Local_Authority_(Highway)', '1st_Road_Class', '1st_Road_Number',\n",
       "       'Road_Type', 'Speed_limit', 'Junction_Control', '2nd_Road_Class',\n",
       "       '2nd_Road_Number', 'Pedestrian_Crossing-Human_Control',\n",
       "       'Pedestrian_Crossing-Physical_Facilities', 'Light_Conditions',\n",
       "       'Weather_Conditions', 'Road_Surface_Conditions',\n",
       "       'Special_Conditions_at_Site', 'Carriageway_Hazards',\n",
       "       'Urban_or_Rural_Area', 'Did_Police_Officer_Attend_Scene_of_Accident',\n",
       "       'LSOA_of_Accident_Location', 'Year'],\n",
       "      dtype='object')"
      ]
     },
     "execution_count": 6,
     "metadata": {},
     "output_type": "execute_result"
    }
   ],
   "source": [
    "data.columns"
   ]
  },
  {
   "cell_type": "code",
   "execution_count": 7,
   "metadata": {},
   "outputs": [
    {
     "name": "stdout",
     "output_type": "stream",
     "text": [
      "<class 'pandas.core.frame.DataFrame'>\n",
      "RangeIndex: 1048575 entries, 0 to 1048574\n",
      "Data columns (total 33 columns):\n",
      " #   Column                                       Non-Null Count    Dtype  \n",
      "---  ------                                       --------------    -----  \n",
      " 0   Unnamed: 0                                   1048575 non-null  int64  \n",
      " 1   Accident_Index                               1048575 non-null  object \n",
      " 2   Location_Easting_OSGR                        1048474 non-null  float64\n",
      " 3   Location_Northing_OSGR                       1048575 non-null  int64  \n",
      " 4   Longitude                                    1048474 non-null  float64\n",
      " 5   Latitude                                     1048575 non-null  float64\n",
      " 6   Police_Force                                 1048575 non-null  int64  \n",
      " 7   Accident_Severity                            1048575 non-null  int64  \n",
      " 8   Number_of_Vehicles                           1048575 non-null  int64  \n",
      " 9   Number_of_Casualties                         1048575 non-null  int64  \n",
      " 10  Date                                         1048575 non-null  object \n",
      " 11  Day_of_Week                                  1048575 non-null  int64  \n",
      " 12  Time                                         1048471 non-null  object \n",
      " 13  Local_Authority_(District)                   1048575 non-null  int64  \n",
      " 14  Local_Authority_(Highway)                    1048575 non-null  object \n",
      " 15  1st_Road_Class                               1048575 non-null  int64  \n",
      " 16  1st_Road_Number                              1048575 non-null  int64  \n",
      " 17  Road_Type                                    1048575 non-null  object \n",
      " 18  Speed_limit                                  1048575 non-null  int64  \n",
      " 19  Junction_Control                             1048575 non-null  object \n",
      " 20  2nd_Road_Class                               1048575 non-null  int64  \n",
      " 21  2nd_Road_Number                              1048575 non-null  int64  \n",
      " 22  Pedestrian_Crossing-Human_Control            1048558 non-null  object \n",
      " 23  Pedestrian_Crossing-Physical_Facilities      1048541 non-null  object \n",
      " 24  Light_Conditions                             1048575 non-null  object \n",
      " 25  Weather_Conditions                           1048575 non-null  object \n",
      " 26  Road_Surface_Conditions                      1048575 non-null  object \n",
      " 27  Special_Conditions_at_Site                   1048575 non-null  object \n",
      " 28  Carriageway_Hazards                          1048575 non-null  object \n",
      " 29  Urban_or_Rural_Area                          1048575 non-null  int64  \n",
      " 30  Did_Police_Officer_Attend_Scene_of_Accident  1048575 non-null  object \n",
      " 31  LSOA_of_Accident_Location                    969055 non-null   object \n",
      " 32  Year                                         1048575 non-null  int64  \n",
      "dtypes: float64(3), int64(15), object(15)\n",
      "memory usage: 264.0+ MB\n"
     ]
    }
   ],
   "source": [
    "data.info()"
   ]
  },
  {
   "cell_type": "code",
   "execution_count": 8,
   "metadata": {},
   "outputs": [
    {
     "data": {
      "text/html": [
       "<div>\n",
       "<style scoped>\n",
       "    .dataframe tbody tr th:only-of-type {\n",
       "        vertical-align: middle;\n",
       "    }\n",
       "\n",
       "    .dataframe tbody tr th {\n",
       "        vertical-align: top;\n",
       "    }\n",
       "\n",
       "    .dataframe thead th {\n",
       "        text-align: right;\n",
       "    }\n",
       "</style>\n",
       "<table border=\"1\" class=\"dataframe\">\n",
       "  <thead>\n",
       "    <tr style=\"text-align: right;\">\n",
       "      <th></th>\n",
       "      <th>Unnamed: 0</th>\n",
       "      <th>Location_Easting_OSGR</th>\n",
       "      <th>Location_Northing_OSGR</th>\n",
       "      <th>Longitude</th>\n",
       "      <th>Latitude</th>\n",
       "      <th>Police_Force</th>\n",
       "      <th>Accident_Severity</th>\n",
       "      <th>Number_of_Vehicles</th>\n",
       "      <th>Number_of_Casualties</th>\n",
       "      <th>Day_of_Week</th>\n",
       "      <th>Local_Authority_(District)</th>\n",
       "      <th>1st_Road_Class</th>\n",
       "      <th>1st_Road_Number</th>\n",
       "      <th>Speed_limit</th>\n",
       "      <th>2nd_Road_Class</th>\n",
       "      <th>2nd_Road_Number</th>\n",
       "      <th>Urban_or_Rural_Area</th>\n",
       "      <th>Year</th>\n",
       "    </tr>\n",
       "  </thead>\n",
       "  <tbody>\n",
       "    <tr>\n",
       "      <th>count</th>\n",
       "      <td>1.048575e+06</td>\n",
       "      <td>1.048474e+06</td>\n",
       "      <td>1.048575e+06</td>\n",
       "      <td>1.048474e+06</td>\n",
       "      <td>1.048575e+06</td>\n",
       "      <td>1.048575e+06</td>\n",
       "      <td>1.048575e+06</td>\n",
       "      <td>1.048575e+06</td>\n",
       "      <td>1.048575e+06</td>\n",
       "      <td>1.048575e+06</td>\n",
       "      <td>1.048575e+06</td>\n",
       "      <td>1.048575e+06</td>\n",
       "      <td>1.048575e+06</td>\n",
       "      <td>1.048575e+06</td>\n",
       "      <td>1.048575e+06</td>\n",
       "      <td>1.048575e+06</td>\n",
       "      <td>1.048575e+06</td>\n",
       "      <td>1.048575e+06</td>\n",
       "    </tr>\n",
       "    <tr>\n",
       "      <th>mean</th>\n",
       "      <td>2.600532e+05</td>\n",
       "      <td>4.385782e+05</td>\n",
       "      <td>2.997915e+05</td>\n",
       "      <td>-1.451933e+00</td>\n",
       "      <td>5.258130e+01</td>\n",
       "      <td>3.072207e+01</td>\n",
       "      <td>2.841090e+00</td>\n",
       "      <td>1.832601e+00</td>\n",
       "      <td>1.356745e+00</td>\n",
       "      <td>4.123111e+00</td>\n",
       "      <td>3.530595e+02</td>\n",
       "      <td>4.092830e+00</td>\n",
       "      <td>1.004720e+03</td>\n",
       "      <td>3.927714e+01</td>\n",
       "      <td>2.633179e+00</td>\n",
       "      <td>3.804578e+02</td>\n",
       "      <td>1.358382e+00</td>\n",
       "      <td>2.007816e+03</td>\n",
       "    </tr>\n",
       "    <tr>\n",
       "      <th>std</th>\n",
       "      <td>1.553517e+05</td>\n",
       "      <td>9.551618e+04</td>\n",
       "      <td>1.613714e+05</td>\n",
       "      <td>1.404224e+00</td>\n",
       "      <td>1.541738e+00</td>\n",
       "      <td>2.559620e+01</td>\n",
       "      <td>4.007862e-01</td>\n",
       "      <td>7.164625e-01</td>\n",
       "      <td>8.253151e-01</td>\n",
       "      <td>1.927559e+00</td>\n",
       "      <td>2.599273e+02</td>\n",
       "      <td>1.433534e+00</td>\n",
       "      <td>1.825067e+03</td>\n",
       "      <td>1.424220e+01</td>\n",
       "      <td>3.209799e+00</td>\n",
       "      <td>1.304678e+03</td>\n",
       "      <td>4.797877e-01</td>\n",
       "      <td>2.179761e+00</td>\n",
       "    </tr>\n",
       "    <tr>\n",
       "      <th>min</th>\n",
       "      <td>0.000000e+00</td>\n",
       "      <td>6.495000e+04</td>\n",
       "      <td>0.000000e+00</td>\n",
       "      <td>-7.516225e+00</td>\n",
       "      <td>0.000000e+00</td>\n",
       "      <td>1.000000e+00</td>\n",
       "      <td>1.000000e+00</td>\n",
       "      <td>1.000000e+00</td>\n",
       "      <td>1.000000e+00</td>\n",
       "      <td>1.000000e+00</td>\n",
       "      <td>1.000000e+00</td>\n",
       "      <td>1.000000e+00</td>\n",
       "      <td>-1.000000e+00</td>\n",
       "      <td>1.000000e+01</td>\n",
       "      <td>-1.000000e+00</td>\n",
       "      <td>-1.000000e+00</td>\n",
       "      <td>1.000000e+00</td>\n",
       "      <td>2.005000e+03</td>\n",
       "    </tr>\n",
       "    <tr>\n",
       "      <th>25%</th>\n",
       "      <td>1.265105e+05</td>\n",
       "      <td>3.743625e+05</td>\n",
       "      <td>1.785815e+05</td>\n",
       "      <td>-2.385540e+00</td>\n",
       "      <td>5.149327e+01</td>\n",
       "      <td>7.000000e+00</td>\n",
       "      <td>3.000000e+00</td>\n",
       "      <td>1.000000e+00</td>\n",
       "      <td>1.000000e+00</td>\n",
       "      <td>2.000000e+00</td>\n",
       "      <td>1.140000e+02</td>\n",
       "      <td>3.000000e+00</td>\n",
       "      <td>0.000000e+00</td>\n",
       "      <td>3.000000e+01</td>\n",
       "      <td>-1.000000e+00</td>\n",
       "      <td>0.000000e+00</td>\n",
       "      <td>1.000000e+00</td>\n",
       "      <td>2.006000e+03</td>\n",
       "    </tr>\n",
       "    <tr>\n",
       "      <th>50%</th>\n",
       "      <td>2.575820e+05</td>\n",
       "      <td>4.387700e+05</td>\n",
       "      <td>2.689000e+05</td>\n",
       "      <td>-1.420841e+00</td>\n",
       "      <td>5.230943e+01</td>\n",
       "      <td>3.000000e+01</td>\n",
       "      <td>3.000000e+00</td>\n",
       "      <td>2.000000e+00</td>\n",
       "      <td>1.000000e+00</td>\n",
       "      <td>4.000000e+00</td>\n",
       "      <td>3.250000e+02</td>\n",
       "      <td>4.000000e+00</td>\n",
       "      <td>1.240000e+02</td>\n",
       "      <td>3.000000e+01</td>\n",
       "      <td>3.000000e+00</td>\n",
       "      <td>0.000000e+00</td>\n",
       "      <td>1.000000e+00</td>\n",
       "      <td>2.007000e+03</td>\n",
       "    </tr>\n",
       "    <tr>\n",
       "      <th>75%</th>\n",
       "      <td>3.886540e+05</td>\n",
       "      <td>5.227800e+05</td>\n",
       "      <td>3.972100e+05</td>\n",
       "      <td>-2.239450e-01</td>\n",
       "      <td>5.346987e+01</td>\n",
       "      <td>4.600000e+01</td>\n",
       "      <td>3.000000e+00</td>\n",
       "      <td>2.000000e+00</td>\n",
       "      <td>1.000000e+00</td>\n",
       "      <td>6.000000e+00</td>\n",
       "      <td>5.320000e+02</td>\n",
       "      <td>6.000000e+00</td>\n",
       "      <td>7.100000e+02</td>\n",
       "      <td>5.000000e+01</td>\n",
       "      <td>6.000000e+00</td>\n",
       "      <td>0.000000e+00</td>\n",
       "      <td>2.000000e+00</td>\n",
       "      <td>2.010000e+03</td>\n",
       "    </tr>\n",
       "    <tr>\n",
       "      <th>max</th>\n",
       "      <td>5.700100e+05</td>\n",
       "      <td>6.553700e+05</td>\n",
       "      <td>1.208800e+06</td>\n",
       "      <td>1.759398e+00</td>\n",
       "      <td>6.075754e+01</td>\n",
       "      <td>9.800000e+01</td>\n",
       "      <td>3.000000e+00</td>\n",
       "      <td>3.400000e+01</td>\n",
       "      <td>8.700000e+01</td>\n",
       "      <td>7.000000e+00</td>\n",
       "      <td>9.410000e+02</td>\n",
       "      <td>6.000000e+00</td>\n",
       "      <td>9.999000e+03</td>\n",
       "      <td>7.000000e+01</td>\n",
       "      <td>6.000000e+00</td>\n",
       "      <td>9.999000e+03</td>\n",
       "      <td>3.000000e+00</td>\n",
       "      <td>2.012000e+03</td>\n",
       "    </tr>\n",
       "  </tbody>\n",
       "</table>\n",
       "</div>"
      ],
      "text/plain": [
       "         Unnamed: 0  Location_Easting_OSGR  Location_Northing_OSGR  \\\n",
       "count  1.048575e+06           1.048474e+06            1.048575e+06   \n",
       "mean   2.600532e+05           4.385782e+05            2.997915e+05   \n",
       "std    1.553517e+05           9.551618e+04            1.613714e+05   \n",
       "min    0.000000e+00           6.495000e+04            0.000000e+00   \n",
       "25%    1.265105e+05           3.743625e+05            1.785815e+05   \n",
       "50%    2.575820e+05           4.387700e+05            2.689000e+05   \n",
       "75%    3.886540e+05           5.227800e+05            3.972100e+05   \n",
       "max    5.700100e+05           6.553700e+05            1.208800e+06   \n",
       "\n",
       "          Longitude      Latitude  Police_Force  Accident_Severity  \\\n",
       "count  1.048474e+06  1.048575e+06  1.048575e+06       1.048575e+06   \n",
       "mean  -1.451933e+00  5.258130e+01  3.072207e+01       2.841090e+00   \n",
       "std    1.404224e+00  1.541738e+00  2.559620e+01       4.007862e-01   \n",
       "min   -7.516225e+00  0.000000e+00  1.000000e+00       1.000000e+00   \n",
       "25%   -2.385540e+00  5.149327e+01  7.000000e+00       3.000000e+00   \n",
       "50%   -1.420841e+00  5.230943e+01  3.000000e+01       3.000000e+00   \n",
       "75%   -2.239450e-01  5.346987e+01  4.600000e+01       3.000000e+00   \n",
       "max    1.759398e+00  6.075754e+01  9.800000e+01       3.000000e+00   \n",
       "\n",
       "       Number_of_Vehicles  Number_of_Casualties   Day_of_Week  \\\n",
       "count        1.048575e+06          1.048575e+06  1.048575e+06   \n",
       "mean         1.832601e+00          1.356745e+00  4.123111e+00   \n",
       "std          7.164625e-01          8.253151e-01  1.927559e+00   \n",
       "min          1.000000e+00          1.000000e+00  1.000000e+00   \n",
       "25%          1.000000e+00          1.000000e+00  2.000000e+00   \n",
       "50%          2.000000e+00          1.000000e+00  4.000000e+00   \n",
       "75%          2.000000e+00          1.000000e+00  6.000000e+00   \n",
       "max          3.400000e+01          8.700000e+01  7.000000e+00   \n",
       "\n",
       "       Local_Authority_(District)  1st_Road_Class  1st_Road_Number  \\\n",
       "count                1.048575e+06    1.048575e+06     1.048575e+06   \n",
       "mean                 3.530595e+02    4.092830e+00     1.004720e+03   \n",
       "std                  2.599273e+02    1.433534e+00     1.825067e+03   \n",
       "min                  1.000000e+00    1.000000e+00    -1.000000e+00   \n",
       "25%                  1.140000e+02    3.000000e+00     0.000000e+00   \n",
       "50%                  3.250000e+02    4.000000e+00     1.240000e+02   \n",
       "75%                  5.320000e+02    6.000000e+00     7.100000e+02   \n",
       "max                  9.410000e+02    6.000000e+00     9.999000e+03   \n",
       "\n",
       "        Speed_limit  2nd_Road_Class  2nd_Road_Number  Urban_or_Rural_Area  \\\n",
       "count  1.048575e+06    1.048575e+06     1.048575e+06         1.048575e+06   \n",
       "mean   3.927714e+01    2.633179e+00     3.804578e+02         1.358382e+00   \n",
       "std    1.424220e+01    3.209799e+00     1.304678e+03         4.797877e-01   \n",
       "min    1.000000e+01   -1.000000e+00    -1.000000e+00         1.000000e+00   \n",
       "25%    3.000000e+01   -1.000000e+00     0.000000e+00         1.000000e+00   \n",
       "50%    3.000000e+01    3.000000e+00     0.000000e+00         1.000000e+00   \n",
       "75%    5.000000e+01    6.000000e+00     0.000000e+00         2.000000e+00   \n",
       "max    7.000000e+01    6.000000e+00     9.999000e+03         3.000000e+00   \n",
       "\n",
       "               Year  \n",
       "count  1.048575e+06  \n",
       "mean   2.007816e+03  \n",
       "std    2.179761e+00  \n",
       "min    2.005000e+03  \n",
       "25%    2.006000e+03  \n",
       "50%    2.007000e+03  \n",
       "75%    2.010000e+03  \n",
       "max    2.012000e+03  "
      ]
     },
     "execution_count": 8,
     "metadata": {},
     "output_type": "execute_result"
    }
   ],
   "source": [
    "data.describe()"
   ]
  },
  {
   "cell_type": "code",
   "execution_count": 9,
   "metadata": {},
   "outputs": [
    {
     "data": {
      "text/plain": [
       "Unnamed: 0                                         0\n",
       "Accident_Index                                     0\n",
       "Location_Easting_OSGR                            101\n",
       "Location_Northing_OSGR                             0\n",
       "Longitude                                        101\n",
       "Latitude                                           0\n",
       "Police_Force                                       0\n",
       "Accident_Severity                                  0\n",
       "Number_of_Vehicles                                 0\n",
       "Number_of_Casualties                               0\n",
       "Date                                               0\n",
       "Day_of_Week                                        0\n",
       "Time                                             104\n",
       "Local_Authority_(District)                         0\n",
       "Local_Authority_(Highway)                          0\n",
       "1st_Road_Class                                     0\n",
       "1st_Road_Number                                    0\n",
       "Road_Type                                          0\n",
       "Speed_limit                                        0\n",
       "Junction_Control                                   0\n",
       "2nd_Road_Class                                     0\n",
       "2nd_Road_Number                                    0\n",
       "Pedestrian_Crossing-Human_Control                 17\n",
       "Pedestrian_Crossing-Physical_Facilities           34\n",
       "Light_Conditions                                   0\n",
       "Weather_Conditions                                 0\n",
       "Road_Surface_Conditions                            0\n",
       "Special_Conditions_at_Site                         0\n",
       "Carriageway_Hazards                                0\n",
       "Urban_or_Rural_Area                                0\n",
       "Did_Police_Officer_Attend_Scene_of_Accident        0\n",
       "LSOA_of_Accident_Location                      79520\n",
       "Year                                               0\n",
       "dtype: int64"
      ]
     },
     "execution_count": 9,
     "metadata": {},
     "output_type": "execute_result"
    }
   ],
   "source": [
    "data.isnull().sum()"
   ]
  },
  {
   "cell_type": "code",
   "execution_count": 10,
   "metadata": {},
   "outputs": [],
   "source": [
    "data.dropna(inplace=True)"
   ]
  },
  {
   "cell_type": "code",
   "execution_count": 11,
   "metadata": {},
   "outputs": [
    {
     "name": "stdout",
     "output_type": "stream",
     "text": [
      "0\n"
     ]
    }
   ],
   "source": [
    "print(data.duplicated().sum())\n",
    "data = data.drop_duplicates()"
   ]
  },
  {
   "cell_type": "code",
   "execution_count": 12,
   "metadata": {},
   "outputs": [],
   "source": [
    "data = data[~data['Year'].isin([2005, 2006, 2007, 2008])]"
   ]
  },
  {
   "cell_type": "code",
   "execution_count": 13,
   "metadata": {},
   "outputs": [],
   "source": [
    "columns_to_drop = [\n",
    "    'Unnamed: 0', 'Accident_Index', 'Location_Easting_OSGR',\n",
    "    'Location_Northing_OSGR', 'Longitude', 'Latitude', 'Police_Force',\n",
    "    'Accident_Severity', 'Number_of_Casualties', 'Date', 'Day_of_Week',\n",
    "    'Time', 'Local_Authority_(District)', 'Local_Authority_(Highway)',\n",
    "    '1st_Road_Class', '1st_Road_Number', 'Junction_Control',\n",
    "    '2nd_Road_Class', '2nd_Road_Number', 'Pedestrian_Crossing-Human_Control',\n",
    "    'Pedestrian_Crossing-Physical_Facilities', 'Special_Conditions_at_Site',\n",
    "    'Carriageway_Hazards', 'Did_Police_Officer_Attend_Scene_of_Accident',\n",
    "    'LSOA_of_Accident_Location'\n",
    "]\n",
    "data = data.drop(columns=columns_to_drop)"
   ]
  },
  {
   "cell_type": "code",
   "execution_count": 14,
   "metadata": {},
   "outputs": [
    {
     "data": {
      "text/html": [
       "<div>\n",
       "<style scoped>\n",
       "    .dataframe tbody tr th:only-of-type {\n",
       "        vertical-align: middle;\n",
       "    }\n",
       "\n",
       "    .dataframe tbody tr th {\n",
       "        vertical-align: top;\n",
       "    }\n",
       "\n",
       "    .dataframe thead th {\n",
       "        text-align: right;\n",
       "    }\n",
       "</style>\n",
       "<table border=\"1\" class=\"dataframe\">\n",
       "  <thead>\n",
       "    <tr style=\"text-align: right;\">\n",
       "      <th></th>\n",
       "      <th>Number_of_Vehicles</th>\n",
       "      <th>Road_Type</th>\n",
       "      <th>Speed_limit</th>\n",
       "      <th>Light_Conditions</th>\n",
       "      <th>Weather_Conditions</th>\n",
       "      <th>Road_Surface_Conditions</th>\n",
       "      <th>Urban_or_Rural_Area</th>\n",
       "      <th>Year</th>\n",
       "    </tr>\n",
       "  </thead>\n",
       "  <tbody>\n",
       "    <tr>\n",
       "      <th>570011</th>\n",
       "      <td>2</td>\n",
       "      <td>One way street</td>\n",
       "      <td>30</td>\n",
       "      <td>Daylight: Street light present</td>\n",
       "      <td>Fine without high winds</td>\n",
       "      <td>Dry</td>\n",
       "      <td>1</td>\n",
       "      <td>2009</td>\n",
       "    </tr>\n",
       "    <tr>\n",
       "      <th>570012</th>\n",
       "      <td>2</td>\n",
       "      <td>Single carriageway</td>\n",
       "      <td>30</td>\n",
       "      <td>Daylight: Street light present</td>\n",
       "      <td>Fine without high winds</td>\n",
       "      <td>Wet/Damp</td>\n",
       "      <td>1</td>\n",
       "      <td>2009</td>\n",
       "    </tr>\n",
       "    <tr>\n",
       "      <th>570013</th>\n",
       "      <td>2</td>\n",
       "      <td>Single carriageway</td>\n",
       "      <td>30</td>\n",
       "      <td>Daylight: Street light present</td>\n",
       "      <td>Fine without high winds</td>\n",
       "      <td>Dry</td>\n",
       "      <td>1</td>\n",
       "      <td>2009</td>\n",
       "    </tr>\n",
       "    <tr>\n",
       "      <th>570014</th>\n",
       "      <td>2</td>\n",
       "      <td>Single carriageway</td>\n",
       "      <td>30</td>\n",
       "      <td>Daylight: Street light present</td>\n",
       "      <td>Other</td>\n",
       "      <td>Frost/Ice</td>\n",
       "      <td>1</td>\n",
       "      <td>2009</td>\n",
       "    </tr>\n",
       "    <tr>\n",
       "      <th>570015</th>\n",
       "      <td>2</td>\n",
       "      <td>Single carriageway</td>\n",
       "      <td>30</td>\n",
       "      <td>Darkness: Street lights present and lit</td>\n",
       "      <td>Fine without high winds</td>\n",
       "      <td>Dry</td>\n",
       "      <td>1</td>\n",
       "      <td>2009</td>\n",
       "    </tr>\n",
       "  </tbody>\n",
       "</table>\n",
       "</div>"
      ],
      "text/plain": [
       "        Number_of_Vehicles           Road_Type  Speed_limit  \\\n",
       "570011                   2      One way street           30   \n",
       "570012                   2  Single carriageway           30   \n",
       "570013                   2  Single carriageway           30   \n",
       "570014                   2  Single carriageway           30   \n",
       "570015                   2  Single carriageway           30   \n",
       "\n",
       "                               Light_Conditions       Weather_Conditions  \\\n",
       "570011           Daylight: Street light present  Fine without high winds   \n",
       "570012           Daylight: Street light present  Fine without high winds   \n",
       "570013           Daylight: Street light present  Fine without high winds   \n",
       "570014           Daylight: Street light present                    Other   \n",
       "570015  Darkness: Street lights present and lit  Fine without high winds   \n",
       "\n",
       "       Road_Surface_Conditions  Urban_or_Rural_Area  Year  \n",
       "570011                     Dry                    1  2009  \n",
       "570012                Wet/Damp                    1  2009  \n",
       "570013                     Dry                    1  2009  \n",
       "570014               Frost/Ice                    1  2009  \n",
       "570015                     Dry                    1  2009  "
      ]
     },
     "execution_count": 14,
     "metadata": {},
     "output_type": "execute_result"
    }
   ],
   "source": [
    "data.head()"
   ]
  },
  {
   "cell_type": "code",
   "execution_count": 15,
   "metadata": {},
   "outputs": [
    {
     "name": "stdout",
     "output_type": "stream",
     "text": [
      "<class 'pandas.core.frame.DataFrame'>\n",
      "Int64Index: 446551 entries, 570011 to 1048574\n",
      "Data columns (total 8 columns):\n",
      " #   Column                   Non-Null Count   Dtype \n",
      "---  ------                   --------------   ----- \n",
      " 0   Number_of_Vehicles       446551 non-null  int64 \n",
      " 1   Road_Type                446551 non-null  object\n",
      " 2   Speed_limit              446551 non-null  int64 \n",
      " 3   Light_Conditions         446551 non-null  object\n",
      " 4   Weather_Conditions       446551 non-null  object\n",
      " 5   Road_Surface_Conditions  446551 non-null  object\n",
      " 6   Urban_or_Rural_Area      446551 non-null  int64 \n",
      " 7   Year                     446551 non-null  int64 \n",
      "dtypes: int64(4), object(4)\n",
      "memory usage: 30.7+ MB\n"
     ]
    }
   ],
   "source": [
    "data.info()"
   ]
  },
  {
   "cell_type": "code",
   "execution_count": 16,
   "metadata": {},
   "outputs": [
    {
     "name": "stdout",
     "output_type": "stream",
     "text": [
      "<class 'pandas.core.frame.DataFrame'>\n",
      "Int64Index: 446551 entries, 570011 to 1048574\n",
      "Data columns (total 8 columns):\n",
      " #   Column                   Non-Null Count   Dtype \n",
      "---  ------                   --------------   ----- \n",
      " 0   Number_of_Vehicles       446551 non-null  int64 \n",
      " 1   Road_Type                446551 non-null  object\n",
      " 2   Speed_limit              446551 non-null  int64 \n",
      " 3   Light_Conditions         446551 non-null  object\n",
      " 4   Weather_Conditions       446551 non-null  object\n",
      " 5   Road_Surface_Conditions  446551 non-null  object\n",
      " 6   Urban_or_Rural_Area      446551 non-null  int64 \n",
      " 7   Year                     446551 non-null  int64 \n",
      "dtypes: int64(4), object(4)\n",
      "memory usage: 30.7+ MB\n",
      "None\n"
     ]
    }
   ],
   "source": [
    "print(data.info())"
   ]
  },
  {
   "cell_type": "code",
   "execution_count": 17,
   "metadata": {},
   "outputs": [
    {
     "data": {
      "image/png": "[encoded data removed]",
      "text/plain": [
       "<Figure size 720x360 with 1 Axes>"
      ]
     },
     "metadata": {
      "needs_background": "light"
     },
     "output_type": "display_data"
    }
   ],
   "source": [
    "# Road Type vs. Number of Vehicles\n",
    "plt.figure(figsize=(10, 5))\n",
    "sns.barplot(x='Road_Type', y='Number_of_Vehicles', data=data)\n",
    "plt.title(\"Road Type vs Number of Vehicles\")\n",
    "plt.show()"
   ]
  },
  {
   "cell_type": "code",
   "execution_count": 18,
   "metadata": {},
   "outputs": [
    {
     "data": {
      "image/png": "[encoded data removed]",
      "text/plain": [
       "<Figure size 720x360 with 1 Axes>"
      ]
     },
     "metadata": {
      "needs_background": "light"
     },
     "output_type": "display_data"
    }
   ],
   "source": [
    "# Weather Condition vs. Number of Vehicles\n",
    "plt.figure(figsize=(10, 5))\n",
    "sns.barplot(x='Weather_Conditions', y='Number_of_Vehicles', data=data)\n",
    "plt.title(\"Weather Conditions vs Number of Vehicles\")\n",
    "plt.show()"
   ]
  },
  {
   "cell_type": "code",
   "execution_count": 19,
   "metadata": {},
   "outputs": [
    {
     "data": {
      "image/png": "[encoded data removed]",
      "text/plain": [
       "<Figure size 720x720 with 4 Axes>"
      ]
     },
     "metadata": {
      "needs_background": "light"
     },
     "output_type": "display_data"
    }
   ],
   "source": [
    "data.hist(bins=20, figsize=(10, 10))\n",
    "plt.show()"
   ]
  },
  {
   "cell_type": "code",
   "execution_count": 20,
   "metadata": {},
   "outputs": [
    {
     "data": {
      "image/png": "[encoded data removed]",
      "text/plain": [
       "<Figure size 720x360 with 2 Axes>"
      ]
     },
     "metadata": {
      "needs_background": "light"
     },
     "output_type": "display_data"
    }
   ],
   "source": [
    "plt.figure(figsize=(10, 5))\n",
    "sns.heatmap(data.corr(), annot=True)\n",
    "plt.title(\"Correlation Heatmap\")\n",
    "plt.show()"
   ]
  },
  {
   "cell_type": "code",
   "execution_count": 21,
   "metadata": {},
   "outputs": [
    {
     "name": "stdout",
     "output_type": "stream",
     "text": [
      "Highly correlated pairs: []\n",
      "Remaining features after dropping highly correlated columns:\n",
      "Index(['Number_of_Vehicles', 'Road_Type', 'Speed_limit', 'Light_Conditions',\n",
      "       'Weather_Conditions', 'Road_Surface_Conditions', 'Urban_or_Rural_Area',\n",
      "       'Year'],\n",
      "      dtype='object')\n"
     ]
    }
   ],
   "source": [
    "# Set a correlation threshold\n",
    "correlation_threshold = 0.8\n",
    "\n",
    "# Compute the correlation matrix\n",
    "correlation_matrix = data.corr()\n",
    "\n",
    "# Identify features with correlation above the threshold\n",
    "high_corr_pairs = []\n",
    "for i in range(len(correlation_matrix.columns)):\n",
    "    for j in range(i):\n",
    "        if abs(correlation_matrix.iloc[i, j]) > correlation_threshold:\n",
    "            col_i = correlation_matrix.columns[i]\n",
    "            col_j = correlation_matrix.columns[j]\n",
    "            high_corr_pairs.append((col_i, col_j))\n",
    "\n",
    "print(\"Highly correlated pairs:\", high_corr_pairs)\n",
    "\n",
    "# Drop one feature from each highly correlated pair\n",
    "columns_to_drop = [pair[0] for pair in high_corr_pairs]\n",
    "data = data.drop(columns=columns_to_drop, axis=1)\n",
    "\n",
    "# Check remaining features\n",
    "print(\"Remaining features after dropping highly correlated columns:\")\n",
    "print(data.columns)"
   ]
  },
  {
   "cell_type": "code",
   "execution_count": 22,
   "metadata": {},
   "outputs": [
    {
     "data": {
      "text/html": [
       "<div>\n",
       "<style scoped>\n",
       "    .dataframe tbody tr th:only-of-type {\n",
       "        vertical-align: middle;\n",
       "    }\n",
       "\n",
       "    .dataframe tbody tr th {\n",
       "        vertical-align: top;\n",
       "    }\n",
       "\n",
       "    .dataframe thead th {\n",
       "        text-align: right;\n",
       "    }\n",
       "</style>\n",
       "<table border=\"1\" class=\"dataframe\">\n",
       "  <thead>\n",
       "    <tr style=\"text-align: right;\">\n",
       "      <th></th>\n",
       "      <th>Number_of_Vehicles</th>\n",
       "      <th>Road_Type</th>\n",
       "      <th>Speed_limit</th>\n",
       "      <th>Light_Conditions</th>\n",
       "      <th>Weather_Conditions</th>\n",
       "      <th>Road_Surface_Conditions</th>\n",
       "      <th>Urban_or_Rural_Area</th>\n",
       "      <th>Year</th>\n",
       "    </tr>\n",
       "  </thead>\n",
       "  <tbody>\n",
       "    <tr>\n",
       "      <th>570011</th>\n",
       "      <td>2</td>\n",
       "      <td>One way street</td>\n",
       "      <td>30</td>\n",
       "      <td>Daylight: Street light present</td>\n",
       "      <td>Fine without high winds</td>\n",
       "      <td>Dry</td>\n",
       "      <td>1</td>\n",
       "      <td>2009</td>\n",
       "    </tr>\n",
       "    <tr>\n",
       "      <th>570012</th>\n",
       "      <td>2</td>\n",
       "      <td>Single carriageway</td>\n",
       "      <td>30</td>\n",
       "      <td>Daylight: Street light present</td>\n",
       "      <td>Fine without high winds</td>\n",
       "      <td>Wet/Damp</td>\n",
       "      <td>1</td>\n",
       "      <td>2009</td>\n",
       "    </tr>\n",
       "    <tr>\n",
       "      <th>570013</th>\n",
       "      <td>2</td>\n",
       "      <td>Single carriageway</td>\n",
       "      <td>30</td>\n",
       "      <td>Daylight: Street light present</td>\n",
       "      <td>Fine without high winds</td>\n",
       "      <td>Dry</td>\n",
       "      <td>1</td>\n",
       "      <td>2009</td>\n",
       "    </tr>\n",
       "    <tr>\n",
       "      <th>570014</th>\n",
       "      <td>2</td>\n",
       "      <td>Single carriageway</td>\n",
       "      <td>30</td>\n",
       "      <td>Daylight: Street light present</td>\n",
       "      <td>Other</td>\n",
       "      <td>Frost/Ice</td>\n",
       "      <td>1</td>\n",
       "      <td>2009</td>\n",
       "    </tr>\n",
       "    <tr>\n",
       "      <th>570015</th>\n",
       "      <td>2</td>\n",
       "      <td>Single carriageway</td>\n",
       "      <td>30</td>\n",
       "      <td>Darkness: Street lights present and lit</td>\n",
       "      <td>Fine without high winds</td>\n",
       "      <td>Dry</td>\n",
       "      <td>1</td>\n",
       "      <td>2009</td>\n",
       "    </tr>\n",
       "  </tbody>\n",
       "</table>\n",
       "</div>"
      ],
      "text/plain": [
       "        Number_of_Vehicles           Road_Type  Speed_limit  \\\n",
       "570011                   2      One way street           30   \n",
       "570012                   2  Single carriageway           30   \n",
       "570013                   2  Single carriageway           30   \n",
       "570014                   2  Single carriageway           30   \n",
       "570015                   2  Single carriageway           30   \n",
       "\n",
       "                               Light_Conditions       Weather_Conditions  \\\n",
       "570011           Daylight: Street light present  Fine without high winds   \n",
       "570012           Daylight: Street light present  Fine without high winds   \n",
       "570013           Daylight: Street light present  Fine without high winds   \n",
       "570014           Daylight: Street light present                    Other   \n",
       "570015  Darkness: Street lights present and lit  Fine without high winds   \n",
       "\n",
       "       Road_Surface_Conditions  Urban_or_Rural_Area  Year  \n",
       "570011                     Dry                    1  2009  \n",
       "570012                Wet/Damp                    1  2009  \n",
       "570013                     Dry                    1  2009  \n",
       "570014               Frost/Ice                    1  2009  \n",
       "570015                     Dry                    1  2009  "
      ]
     },
     "execution_count": 22,
     "metadata": {},
     "output_type": "execute_result"
    }
   ],
   "source": [
    "data.head()"
   ]
  },
  {
   "cell_type": "code",
   "execution_count": 23,
   "metadata": {},
   "outputs": [
    {
     "name": "stdout",
     "output_type": "stream",
     "text": [
      "Number_of_Vehicles          int64\n",
      "Road_Type                  object\n",
      "Speed_limit                 int64\n",
      "Light_Conditions           object\n",
      "Weather_Conditions         object\n",
      "Road_Surface_Conditions    object\n",
      "Urban_or_Rural_Area         int64\n",
      "Year                        int64\n",
      "dtype: object\n"
     ]
    }
   ],
   "source": [
    "# Check the data types to identify numeric columns\n",
    "print(data.dtypes)\n",
    "\n",
    "# Select only the numeric columns (e.g., Number_of_Vehicles, Speed_limit)\n",
    "data_numeric = data[['Number_of_Vehicles', 'Speed_limit', 'Year']]  # Adjust the columns as needed\n",
    "\n",
    "# Add constant for intercept in the VIF calculation\n",
    "from statsmodels.tools.tools import add_constant\n",
    "subset_data_const = add_constant(data_numeric)\n",
    "\n",
    "# Create an empty DataFrame to store VIF results\n",
    "from statsmodels.stats.outliers_influence import variance_inflation_factor\n",
    "vif_data = pd.DataFrame()\n",
    "\n",
    "# Store feature names in the \"feature\" column\n",
    "vif_data[\"feature\"] = subset_data_const.columns\n",
    "\n",
    "# Calculate VIF for each feature\n",
    "vif_data[\"VIF\"] = [variance_inflation_factor(subset_data_const.values, i) \n",
    "                   for i in range(subset_data_const.shape[1])]\n",
    "\n"
   ]
  },
  {
   "cell_type": "code",
   "execution_count": 24,
   "metadata": {},
   "outputs": [
    {
     "name": "stdout",
     "output_type": "stream",
     "text": [
      "              feature           VIF\n",
      "0               const  5.481602e+06\n",
      "1  Number_of_Vehicles  1.007931e+00\n",
      "2         Speed_limit  1.009431e+00\n",
      "3                Year  1.001546e+00\n"
     ]
    }
   ],
   "source": [
    "# Print the VIF data\n",
    "print(vif_data)"
   ]
  },
  {
   "cell_type": "code",
   "execution_count": 25,
   "metadata": {},
   "outputs": [
    {
     "name": "stdout",
     "output_type": "stream",
     "text": [
      "        Number_of_Vehicles  Year\n",
      "570011                   2  2009\n",
      "570012                   2  2009\n",
      "570013                   2  2009\n",
      "570014                   2  2009\n",
      "570015                   2  2009\n"
     ]
    }
   ],
   "source": [
    "# Drop columns with high VIF\n",
    "columns_to_drop = ['Speed_limit']  # Example: replace based on your VIF results\n",
    "data_numeric = data_numeric.drop(columns=columns_to_drop, axis=1)\n",
    "\n",
    "# Verify remaining columns\n",
    "print(data_numeric.head())"
   ]
  },
  {
   "cell_type": "code",
   "execution_count": 26,
   "metadata": {},
   "outputs": [
    {
     "name": "stdout",
     "output_type": "stream",
     "text": [
      "   Number_of_Vehicles      Year\n",
      "0              0.2357 -1.184479\n",
      "1              0.2357 -1.184479\n",
      "2              0.2357 -1.184479\n",
      "3              0.2357 -1.184479\n",
      "4              0.2357 -1.184479\n"
     ]
    }
   ],
   "source": [
    "from sklearn.preprocessing import StandardScaler\n",
    "\n",
    "scaler = StandardScaler()\n",
    "data_numeric_scaled = pd.DataFrame(scaler.fit_transform(data_numeric), columns=data_numeric.columns)\n",
    "\n",
    "# Check scaled data\n",
    "print(data_numeric_scaled.head())"
   ]
  },
  {
   "cell_type": "code",
   "execution_count": 27,
   "metadata": {},
   "outputs": [
    {
     "name": "stdout",
     "output_type": "stream",
     "text": [
      "Index(['Number_of_Vehicles', 'Road_Type', 'Speed_limit', 'Light_Conditions',\n",
      "       'Weather_Conditions', 'Road_Surface_Conditions', 'Urban_or_Rural_Area',\n",
      "       'Year'],\n",
      "      dtype='object')\n"
     ]
    }
   ],
   "source": [
    "print(data.columns)"
   ]
  },
  {
   "cell_type": "code",
   "execution_count": 28,
   "metadata": {},
   "outputs": [
    {
     "name": "stdout",
     "output_type": "stream",
     "text": [
      "Training Set: (312585, 2), Testing Set: (133966, 2)\n"
     ]
    }
   ],
   "source": [
    "from sklearn.model_selection import train_test_split\n",
    "\n",
    "# Define features (X) and target variable (y)\n",
    "X = data_numeric_scaled  # Ensure this variable is correctly defined and scaled\n",
    "y = data['Urban_or_Rural_Area']  # Replace with your target column\n",
    "\n",
    "# Split into train and test sets\n",
    "X_train, X_test, y_train, y_test = train_test_split(X, y, test_size=0.3, random_state=42)\n",
    "\n",
    "# Confirm split\n",
    "print(f\"Training Set: {X_train.shape}, Testing Set: {X_test.shape}\")\n"
   ]
  },
  {
   "cell_type": "code",
   "execution_count": 29,
   "metadata": {},
   "outputs": [
    {
     "name": "stdout",
     "output_type": "stream",
     "text": [
      "Model training complete!\n"
     ]
    }
   ],
   "source": [
    "from sklearn.linear_model import LogisticRegression\n",
    "\n",
    "# Initialize logistic regression model\n",
    "logistic_model = LogisticRegression(random_state=42)\n",
    "\n",
    "# Train the model\n",
    "logistic_model.fit(X_train, y_train)\n",
    "\n",
    "print(\"Model training complete!\")"
   ]
  },
  {
   "cell_type": "code",
   "execution_count": 30,
   "metadata": {},
   "outputs": [
    {
     "name": "stdout",
     "output_type": "stream",
     "text": [
      "Accuracy: 0.6595927324843617\n",
      "Classification Report:\n",
      "               precision    recall  f1-score   support\n",
      "\n",
      "           1       0.66      1.00      0.79     88310\n",
      "           2       0.68      0.00      0.00     45656\n",
      "\n",
      "    accuracy                           0.66    133966\n",
      "   macro avg       0.67      0.50      0.40    133966\n",
      "weighted avg       0.67      0.66      0.53    133966\n",
      "\n"
     ]
    }
   ],
   "source": [
    "from sklearn.metrics import classification_report, accuracy_score\n",
    "\n",
    "# Predict on the test set\n",
    "y_pred = logistic_model.predict(X_test)\n",
    "\n",
    "# Evaluate the model\n",
    "print(\"Accuracy:\", accuracy_score(y_test, y_pred))\n",
    "print(\"Classification Report:\\n\", classification_report(y_test, y_pred))\n"
   ]
  },
  {
   "cell_type": "code",
   "execution_count": null,
   "metadata": {},
   "outputs": [],
   "source": [
    "from sklearn.ensemble import RandomForestClassifier\n",
    "from sklearn.svm import SVC\n",
    "from sklearn.metrics import roc_auc_score, roc_curve\n",
    "\n",
    "# Train RandomForest\n",
    "rf_model = RandomForestClassifier(random_state=42)\n",
    "rf_model.fit(X_train, y_train)\n",
    "rf_pred = rf_model.predict(X_test)\n",
    "rf_accuracy = rf_model.score(X_test, y_test)\n",
    "print(f\"Random Forest Accuracy: {rf_accuracy}\")\n",
    "\n",
    "# Train SVM\n",
    "svm_model = SVC(probability=True, random_state=42)\n",
    "svm_model.fit(X_train, y_train)\n",
    "svm_pred = svm_model.predict(X_test)\n",
    "svm_accuracy = svm_model.score(X_test, y_test)\n",
    "print(f\"SVM Accuracy: {svm_accuracy}\")\n",
    "\n",
    "# Compare ROC-AUC\n",
    "rf_roc_auc = roc_auc_score(y_test, rf_model.predict_proba(X_test)[:, 1])\n",
    "svm_roc_auc = roc_auc_score(y_test, svm_model.predict_proba(X_test)[:, 1])\n",
    "\n",
    "print(f\"Random Forest ROC-AUC: {rf_roc_auc}\")\n",
    "print(f\"SVM ROC-AUC: {svm_roc_auc}\")"
   ]
  },
  {
   "cell_type": "code",
   "execution_count": null,
   "metadata": {},
   "outputs": [],
   "source": [
    "import pickle\n",
    "\n",
    "# Save the model\n",
    "with open(\"rf_model_pickle.pkl\", \"wb\") as f:\n",
    "    pickle.dump(rf_model, f)\n",
    "print(\"Model saved successfully using pickle.\")\n",
    "\n",
    "# Load the model\n",
    "with open(\"rf_model_pickle.pkl\", \"rb\") as f:\n",
    "    loaded_model = pickle.load(f)\n",
    "print(\"Model loaded successfully.\")"
   ]
  },
  {
   "cell_type": "code",
   "execution_count": null,
   "metadata": {},
   "outputs": [],
   "source": [
    "import sklearn\n",
    "import joblib\n",
    "\n",
    "print(f\"scikit-learn version: {sklearn.__version__}\")\n",
    "print(f\"joblib version: {joblib.__version__}\")"
   ]
  },
  {
   "cell_type": "code",
   "execution_count": null,
   "metadata": {},
   "outputs": [],
   "source": [
    "from sklearn.ensemble import RandomForestClassifier\n",
    "from sklearn.svm import SVC\n",
    "from sklearn.metrics import roc_auc_score, roc_curve\n",
    "import joblib\n",
    "\n",
    "# Train RandomForest\n",
    "rf_model = RandomForestClassifier(random_state=42)\n",
    "rf_model.fit(X_train, y_train)\n",
    "rf_pred = rf_model.predict(X_test)\n",
    "rf_accuracy = rf_model.score(X_test, y_test)\n",
    "print(f\"Random Forest Accuracy: {rf_accuracy}\")\n",
    "\n",
    "# Train SVM\n",
    "svm_model = SVC(probability=True, random_state=42)\n",
    "svm_model.fit(X_train, y_train)\n",
    "svm_pred = svm_model.predict(X_test)\n",
    "svm_accuracy = svm_model.score(X_test, y_test)\n",
    "print(f\"SVM Accuracy: {svm_accuracy}\")\n",
    "\n",
    "# Compare ROC-AUC\n",
    "rf_roc_auc = roc_auc_score(y_test, rf_model.predict_proba(X_test)[:, 1])\n",
    "svm_roc_auc = roc_auc_score(y_test, svm_model.predict_proba(X_test)[:, 1])\n",
    "\n",
    "print(f\"Random Forest ROC-AUC: {rf_roc_auc}\")\n",
    "print(f\"SVM ROC-AUC: {svm_roc_auc}\")\n",
    "\n",
    "# Decide which model to save (for example, Random Forest)\n",
    "best_model = rf_model  # Replace with svm_model if SVM is better\n",
    "\n",
    "# Save the best model\n",
    "filename = \"best_model.pkl\"\n",
    "joblib.dump(best_model, filename)\n",
    "print(f\"Best model saved successfully as {filename}\")"
   ]
  },
  {
   "cell_type": "code",
   "execution_count": null,
   "metadata": {},
   "outputs": [],
   "source": [
    "from sklearn.ensemble import RandomForestClassifier\n",
    "from sklearn.svm import SVC\n",
    "from sklearn.metrics import roc_auc_score, roc_curve\n",
    "import joblib\n",
    "\n",
    "# Train RandomForest\n",
    "rf_model = RandomForestClassifier(random_state=42)\n",
    "rf_model.fit(X_train, y_train)\n",
    "rf_pred = rf_model.predict(X_test)\n",
    "rf_accuracy = rf_model.score(X_test, y_test)\n",
    "print(f\"Random Forest Accuracy: {rf_accuracy}\")\n",
    "\n",
    "# Train SVM\n",
    "svm_model = SVC(probability=True, random_state=42)\n",
    "svm_model.fit(X_train, y_train)\n",
    "svm_pred = svm_model.predict(X_test)\n",
    "svm_accuracy = svm_model.score(X_test, y_test)\n",
    "print(f\"SVM Accuracy: {svm_accuracy}\")\n",
    "\n",
    "# Compare ROC-AUC\n",
    "rf_roc_auc = roc_auc_score(y_test, rf_model.predict_proba(X_test)[:, 1])\n",
    "svm_roc_auc = roc_auc_score(y_test, svm_model.predict_proba(X_test)[:, 1])\n",
    "\n",
    "print(f\"Random Forest ROC-AUC: {rf_roc_auc}\")\n",
    "print(f\"SVM ROC-AUC: {svm_roc_auc}\")\n",
    "\n",
    "# Decide which model to save (for example, Random Forest)\n",
    "best_model = rf_model  # Replace with svm_model if SVM is better\n",
    "\n",
    "# Save the best model\n",
    "filename = \"best_model.pkl\"\n",
    "joblib.dump(best_model, filename)\n",
    "print(f\"Best model saved successfully as {filename}\")"
   ]
  },
  {
   "cell_type": "code",
   "execution_count": null,
   "metadata": {},
   "outputs": [],
   "source": [
    "import joblib\n",
    "\n",
    "# Load the model\n",
    "loaded_model = joblib.load(\"best_model.pkl\")\n",
    "print(\"Model loaded successfully.\")\n",
    "\n",
    "# Use the model for prediction\n",
    "sample_data = X_test[:5]  # Replace with your test data\n",
    "predictions = loaded_model.predict(sample_data)\n",
    "print(\"Predictions:\", predictions)"
   ]
  },
  {
   "cell_type": "code",
   "execution_count": null,
   "metadata": {},
   "outputs": [],
   "source": [
    "print(\"Random Forest Model Parameters:\")\n",
    "print(rf_model.get_params())"
   ]
  },
  {
   "cell_type": "code",
   "execution_count": null,
   "metadata": {},
   "outputs": [],
   "source": [
    "import joblib\n",
    "\n",
    "# Save the model\n",
    "try:\n",
    "    joblib.dump(rf_model, \"rf_model_test.pkl\")\n",
    "    print(\"Model saved successfully.\")\n",
    "except Exception as e:\n",
    "    print(f\"Error occurred while saving the model: {e}\")"
   ]
  },
  {
   "cell_type": "code",
   "execution_count": null,
   "metadata": {},
   "outputs": [],
   "source": []
  }
 ],
 "metadata": {
  "kernelspec": {
   "display_name": "Python 3",
   "language": "python",
   "name": "python3"
  },
  "language_info": {
   "codemirror_mode": {
    "name": "ipython",
    "version": 3
   },
   "file_extension": ".py",
   "mimetype": "text/x-python",
   "name": "python",
   "nbconvert_exporter": "python",
   "pygments_lexer": "ipython3",
   "version": "3.7.6"
  }
 },
 "nbformat": 4,
 "nbformat_minor": 4
}
